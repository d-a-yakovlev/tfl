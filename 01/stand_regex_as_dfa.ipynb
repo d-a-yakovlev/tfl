{
 "cells": [
  {
   "attachments": {},
   "cell_type": "markdown",
   "id": "288e326c",
   "metadata": {
    "id": "4c71cd6d"
   },
   "source": [
    "Возвращает результат проверки, True если входная строка соответствует регулярному выражению, и False в противном случае."
   ]
  },
  {
   "cell_type": "code",
   "execution_count": 177,
   "id": "b884a9a2",
   "metadata": {},
   "outputs": [
    {
     "name": "stdout",
     "output_type": "stream",
     "text": [
      "regex : hel+o, str : hello\n",
      "\t=> True\n",
      "Test - passed\n",
      "regex : hel+o, str : helllllo\n",
      "\t=> True\n",
      "Test - passed\n",
      "regex : hel+o, str : helo\n",
      "\t=> True\n",
      "Test - passed\n",
      "regex : hel+o, str : heo\n",
      "\t=> False\n",
      "Test - passed\n",
      "regex : hel+o, str : hallo\n",
      "\t=> False\n",
      "Test - passed\n",
      "----------------------\n",
      "regex : hel*o, str : hello\n",
      "\t=> True\n",
      "Test - passed\n",
      "regex : hel*o, str : helllllo\n",
      "\t=> True\n",
      "Test - passed\n",
      "regex : hel*o, str : helo\n",
      "\t=> True\n",
      "Test - passed\n",
      "regex : hel*o, str : heo\n",
      "\t=> True\n",
      "Test - passed\n",
      "regex : hel*o, str : hallo\n",
      "\t=> False\n",
      "Test - passed\n",
      "----------------------\n",
      "regex : hel?o, str : hello\n",
      "\t=> False\n",
      "Test - passed\n",
      "regex : hel?o, str : helllllo\n",
      "\t=> False\n",
      "Test - passed\n",
      "regex : hel?o, str : helo\n",
      "\t=> True\n",
      "Test - passed\n",
      "regex : hel?o, str : heo\n",
      "\t=> True\n",
      "Test - passed\n",
      "regex : hel?o, str : hallo\n",
      "\t=> False\n",
      "Test - passed\n",
      "----------------------\n"
     ]
    }
   ],
   "source": [
    "import test_regex.utils as testsuite\n",
    "import importlib\n",
    "\n",
    "importlib.reload(testsuite)\n",
    "\n",
    "regex_list = [ \"hel+o\", \"hel*o\", \"hel?o\"]\n",
    "case_list  = [ \"hello\", \"helllllo\", \"helo\", \"heo\", \"hallo\" ]\n",
    "\n",
    "testsuite.match_test(regex_list, case_list)"
   ]
  }
 ],
 "metadata": {
  "colab": {
   "provenance": []
  },
  "kernelspec": {
   "display_name": "Python 3",
   "language": "python",
   "name": "python3"
  },
  "language_info": {
   "codemirror_mode": {
    "name": "ipython",
    "version": 3
   },
   "file_extension": ".py",
   "mimetype": "text/x-python",
   "name": "python",
   "nbconvert_exporter": "python",
   "pygments_lexer": "ipython3",
   "version": "3.8.3"
  }
 },
 "nbformat": 4,
 "nbformat_minor": 5
}
